{
  "nbformat": 4,
  "nbformat_minor": 0,
  "metadata": {
    "coursera": {
      "course_slug": "neural-networks-deep-learning",
      "graded_item_id": "TSPse",
      "launcher_item_id": "24mxX"
    },
    "kernelspec": {
      "display_name": "Python 3",
      "language": "python",
      "name": "python3"
    },
    "language_info": {
      "codemirror_mode": {
        "name": "ipython",
        "version": 3
      },
      "file_extension": ".py",
      "mimetype": "text/x-python",
      "name": "python",
      "nbconvert_exporter": "python",
      "pygments_lexer": "ipython3",
      "version": "3.6.0"
    },
    "colab": {
      "name": "pendulo_nn.ipynb",
      "provenance": [],
      "toc_visible": true
    }
  },
  "cells": [
    {
      "cell_type": "code",
      "metadata": {
        "id": "3elkSd8yRyr5",
        "outputId": "a9763050-c88b-431f-c381-fd4d05e71d22",
        "colab": {
          "base_uri": "https://localhost:8080/",
          "height": 122
        }
      },
      "source": [
        "from google.colab import drive\n",
        "drive.mount('/content/drive')\n",
        "\n",
        "import sys\n",
        "sys.path.append('/content/drive/My Drive/pendulo_nn')"
      ],
      "execution_count": null,
      "outputs": [
        {
          "output_type": "stream",
          "text": [
            "Go to this URL in a browser: https://accounts.google.com/o/oauth2/auth?client_id=947318989803-6bn6qk8qdgf4n4g3pfee6491hc0brc4i.apps.googleusercontent.com&redirect_uri=urn%3aietf%3awg%3aoauth%3a2.0%3aoob&response_type=code&scope=email%20https%3a%2f%2fwww.googleapis.com%2fauth%2fdocs.test%20https%3a%2f%2fwww.googleapis.com%2fauth%2fdrive%20https%3a%2f%2fwww.googleapis.com%2fauth%2fdrive.photos.readonly%20https%3a%2f%2fwww.googleapis.com%2fauth%2fpeopleapi.readonly\n",
            "\n",
            "Enter your authorization code:\n",
            "··········\n",
            "Mounted at /content/drive\n"
          ],
          "name": "stdout"
        }
      ]
    },
    {
      "cell_type": "code",
      "metadata": {
        "id": "hD7RwDat6CSg",
        "outputId": "0d374b3c-9542-492b-f88c-0ac1c9f75505",
        "colab": {
          "base_uri": "https://localhost:8080/",
          "height": 54
        }
      },
      "source": [
        "import time\n",
        "import numpy as np\n",
        "import h5py\n",
        "import matplotlib.pyplot as plt\n",
        "import scipy\n",
        "from dnn_utils_v2 import sigmoid, sigmoid_backward, relu, relu_backward, predict\n",
        "from building_your_deep_neural_network_step_by_step_v8a import *\n",
        "\n",
        "\n",
        "\n",
        "np.random.seed(1)"
      ],
      "execution_count": null,
      "outputs": [
        {
          "output_type": "stream",
          "text": [
            "Drive already mounted at /content/drive; to attempt to forcibly remount, call drive.mount(\"/content/drive\", force_remount=True).\n"
          ],
          "name": "stdout"
        }
      ]
    },
    {
      "cell_type": "markdown",
      "metadata": {
        "id": "VPbSMKod6CSl"
      },
      "source": [
        "## 2 - Dataset\n",
        "\n",
        "You will use the same \"Cat vs non-Cat\" dataset as in \"Logistic Regression as a Neural Network\" (Assignment 2). The model you had built had 70% test accuracy on classifying cats vs non-cats images. Hopefully, your new model will perform a better!\n",
        "\n",
        "**Problem Statement**: You are given a dataset (\"data.h5\") containing:\n",
        "    - a training set of m_train images labelled as cat (1) or non-cat (0)\n",
        "    - a test set of m_test images labelled as cat and non-cat\n",
        "    - each image is of shape (num_px, num_px, 3) where 3 is for the 3 channels (RGB).\n",
        "\n",
        "Let's get more familiar with the dataset. Load the data by running the cell below."
      ]
    },
    {
      "cell_type": "code",
      "metadata": {
        "id": "doOtTRTT7PEu"
      },
      "source": [
        "training_data = np.loadtxt('/content/drive/My Drive/pendulo_nn/training_data.txt', dtype=float)\n",
        "training_torques = np.loadtxt('/content/drive/My Drive/pendulo_nn/training_torques.txt', dtype=float)\n",
        "training_torques = training_torques.reshape(1,-1)\n"
      ],
      "execution_count": null,
      "outputs": []
    },
    {
      "cell_type": "markdown",
      "metadata": {
        "id": "c5UzCH_I6CSu"
      },
      "source": [
        "The following code will show you an image in the dataset. Feel free to change the index and re-run the cell multiple times to see other images. "
      ]
    },
    {
      "cell_type": "code",
      "metadata": {
        "id": "CpSLn8YU6CSu",
        "outputId": "413ae5cf-4918-4d74-875c-593486d8e483",
        "colab": {
          "base_uri": "https://localhost:8080/",
          "height": 51
        }
      },
      "source": [
        "# Example of a picture\n",
        "print (training_data.shape)\n",
        "print (training_torques.shape)"
      ],
      "execution_count": null,
      "outputs": [
        {
          "output_type": "stream",
          "text": [
            "(2, 7568)\n",
            "(1, 7568)\n"
          ],
          "name": "stdout"
        }
      ]
    },
    {
      "cell_type": "code",
      "metadata": {
        "id": "GJcgC3we6CS7"
      },
      "source": [
        "\n",
        "# Standardize data to have feature values between 0 and 1.\n",
        "#training_data[0] = training_data[0]/training_data[0].max()\n",
        "#training_data[1] = training_data[1]/training_data[1].max()\n",
        "\n",
        "training_data[0] = training_data[0]/10\n",
        "training_data[1] = training_data[1]/10\n",
        "\n",
        "\n",
        "#training_torques = training_torques/training_torques.max()\n",
        "\n"
      ],
      "execution_count": null,
      "outputs": []
    },
    {
      "cell_type": "code",
      "metadata": {
        "id": "H8JpjBK6bQV0",
        "outputId": "fb2f11d3-c31f-472e-c3c9-e1754703b586",
        "colab": {
          "base_uri": "https://localhost:8080/",
          "height": 68
        }
      },
      "source": [
        "print(training_data[0].max())\n",
        "print(training_data[1].max())\n",
        "print(training_torques.max())"
      ],
      "execution_count": null,
      "outputs": [
        {
          "output_type": "stream",
          "text": [
            "0.4612389\n",
            "0.7339173999999999\n",
            "107.297656\n"
          ],
          "name": "stdout"
        }
      ]
    },
    {
      "cell_type": "code",
      "metadata": {
        "id": "E-sSrHBg6CTE"
      },
      "source": [
        "### CONSTANTS DEFINING THE MODEL ####\n",
        "n_x = 2     # num_px * num_px * 3\n",
        "n_h = 1\n",
        "n_y = 1\n",
        "layers_dims = (n_x, n_h, n_y)"
      ],
      "execution_count": null,
      "outputs": []
    },
    {
      "cell_type": "code",
      "metadata": {
        "id": "T20kufF96CTJ"
      },
      "source": [
        "# GRADED FUNCTION: two_layer_model\n",
        "\n",
        "def two_layer_model(X, Y, layers_dims, learning_rate = 0.0075, num_iterations = 3000, print_cost=False):\n",
        "    \"\"\"\n",
        "    Implements a two-layer neural network: LINEAR->RELU->LINEAR->SIGMOID.\n",
        "    \n",
        "    Arguments:\n",
        "    X -- input data, of shape (n_x, number of examples)\n",
        "    Y -- true \"label\" vector (containing 1 if cat, 0 if non-cat), of shape (1, number of examples)\n",
        "    layers_dims -- dimensions of the layers (n_x, n_h, n_y)\n",
        "    num_iterations -- number of iterations of the optimization loop\n",
        "    learning_rate -- learning rate of the gradient descent update rule\n",
        "    print_cost -- If set to True, this will print the cost every 100 iterations \n",
        "    \n",
        "    Returns:\n",
        "    parameters -- a dictionary containing W1, W2, b1, and b2\n",
        "    \"\"\"\n",
        "    \n",
        "    np.random.seed(1)\n",
        "    grads = {}\n",
        "    costs = []                              # to keep track of the cost\n",
        "    m = X.shape[1]                           # number of examples\n",
        "    (n_x, n_h, n_y) = layers_dims\n",
        "    \n",
        "    # Initialize parameters dictionary, by calling one of the functions you'd previously implemented\n",
        "    ### START CODE HERE ### (≈ 1 line of code)\n",
        "    parameters = initialize_parameters(n_x, n_h, n_y)\n",
        "    ### END CODE HERE ###\n",
        "    \n",
        "    # Get W1, b1, W2 and b2 from the dictionary parameters.\n",
        "    W1 = parameters[\"W1\"]\n",
        "    b1 = parameters[\"b1\"]\n",
        "    W2 = parameters[\"W2\"]\n",
        "    b2 = parameters[\"b2\"]\n",
        "    \n",
        "    # Loop (gradient descent)\n",
        "\n",
        "    for i in range(0, num_iterations):\n",
        "\n",
        "        # Forward propagation: LINEAR -> RELU -> LINEAR -> SIGMOID. Inputs: \"X, W1, b1, W2, b2\". Output: \"A1, cache1, A2, cache2\".\n",
        "        ### START CODE HERE ### (≈ 2 lines of code)\n",
        "        A1, cache1 = linear_activation_forward(X, W1, b1, \"relu\")\n",
        "        A2, cache2 = linear_forward(A1, W2, b2)\n",
        "        ### END CODE HERE ###\n",
        "        \n",
        "        # Compute cost\n",
        "        ### START CODE HERE ### (≈ 1 line of code)\n",
        "        cost = compute_cost(A2, Y)\n",
        "        ### END CODE HERE ###\n",
        "        \n",
        "        # Initializing backward propagation\n",
        "        dA2 = -2*(Y - A2)\n",
        "        \n",
        "        # Backward propagation. Inputs: \"dA2, cache2, cache1\". Outputs: \"dA1, dW2, db2; also dA0 (not used), dW1, db1\".\n",
        "        ### START CODE HERE ### (≈ 2 lines of code)\n",
        "        dA1, dW2, db2 = linear_backward(dA2, cache2)\n",
        "        dA0, dW1, db1 = linear_activation_backward(dA1, cache1, \"relu\")\n",
        "        ### END CODE HERE ###\n",
        "        \n",
        "        # Set grads['dWl'] to dW1, grads['db1'] to db1, grads['dW2'] to dW2, grads['db2'] to db2\n",
        "        grads['dW1'] = dW1\n",
        "        grads['db1'] = db1\n",
        "        grads['dW2'] = dW2\n",
        "        grads['db2'] = db2\n",
        "        \n",
        "        # Update parameters.\n",
        "        ### START CODE HERE ### (approx. 1 line of code)\n",
        "        parameters = update_parameters(parameters, grads, learning_rate)\n",
        "        ### END CODE HERE ###\n",
        "\n",
        "        # Retrieve W1, b1, W2, b2 from parameters\n",
        "        W1 = parameters[\"W1\"]\n",
        "        b1 = parameters[\"b1\"]\n",
        "        W2 = parameters[\"W2\"]\n",
        "        b2 = parameters[\"b2\"]\n",
        "        \n",
        "        # Print the cost every 100 training example\n",
        "        if print_cost and i % 100 == 0:\n",
        "            print(\"Cost after iteration {}: {}\".format(i, np.squeeze(cost)))\n",
        "        if print_cost and i % 100 == 0:\n",
        "            costs.append(cost)\n",
        "       \n",
        "    # plot the cost\n",
        "\n",
        "    plt.plot(np.squeeze(costs))\n",
        "    plt.ylabel('cost')\n",
        "    plt.xlabel('iterations (per hundreds)')\n",
        "    plt.title(\"Learning rate =\" + str(learning_rate))\n",
        "    plt.show()\n",
        "    \n",
        "    return parameters"
      ],
      "execution_count": null,
      "outputs": []
    },
    {
      "cell_type": "markdown",
      "metadata": {
        "id": "4_tNOmuK6CTN"
      },
      "source": [
        "Run the cell below to train your parameters. See if your model runs. The cost should be decreasing. It may take up to 5 minutes to run 2500 iterations. Check if the \"Cost after iteration 0\" matches the expected output below, if not click on the square (⬛) on the upper bar of the notebook to stop the cell and try to find your error."
      ]
    },
    {
      "cell_type": "code",
      "metadata": {
        "id": "yPsKKoXZ6CTO",
        "outputId": "1a6d17f2-71fa-4c02-d536-fb42b1e626b6",
        "colab": {
          "base_uri": "https://localhost:8080/",
          "height": 1000
        }
      },
      "source": [
        "parameters = two_layer_model(training_data, training_torques, layers_dims = (n_x, n_h, n_y), num_iterations = 23000, print_cost=True)"
      ],
      "execution_count": null,
      "outputs": [
        {
          "output_type": "stream",
          "text": [
            "Cost after iteration 0: 62.9457588359721\n",
            "Cost after iteration 100: 62.937865561650746\n",
            "Cost after iteration 200: 62.93701637969694\n",
            "Cost after iteration 300: 62.93555968276033\n",
            "Cost after iteration 400: 62.9311435827114\n",
            "Cost after iteration 500: 62.917657677867815\n",
            "Cost after iteration 600: 62.877186081551194\n",
            "Cost after iteration 700: 62.761654910465936\n",
            "Cost after iteration 800: 62.468608468909125\n",
            "Cost after iteration 900: 61.867959868429004\n",
            "Cost after iteration 1000: 60.94435848186347\n",
            "Cost after iteration 1100: 59.866365634535185\n",
            "Cost after iteration 1200: 58.85377192569869\n",
            "Cost after iteration 1300: 57.9920400599233\n",
            "Cost after iteration 1400: 57.214207656834965\n",
            "Cost after iteration 1500: 56.42360900313355\n",
            "Cost after iteration 1600: 55.516868213289925\n",
            "Cost after iteration 1700: 54.42308650144413\n",
            "Cost after iteration 1800: 53.09060419209138\n",
            "Cost after iteration 1900: 51.36069939448507\n",
            "Cost after iteration 2000: 49.441563886150256\n",
            "Cost after iteration 2100: 47.31074788640071\n",
            "Cost after iteration 2200: 44.94474768252867\n",
            "Cost after iteration 2300: 42.394119432175295\n",
            "Cost after iteration 2400: 39.70660987258024\n",
            "Cost after iteration 2500: 36.93672395791836\n",
            "Cost after iteration 2600: 34.153369401781106\n",
            "Cost after iteration 2700: 33.190470015968444\n",
            "Cost after iteration 2800: 31.549450649099747\n",
            "Cost after iteration 2900: 30.097957990709038\n",
            "Cost after iteration 3000: 28.755084267710533\n",
            "Cost after iteration 3100: 27.584374988011998\n",
            "Cost after iteration 3200: 26.595406148591536\n",
            "Cost after iteration 3300: 26.213651423819844\n",
            "Cost after iteration 3400: 30.900031609418168\n",
            "Cost after iteration 3500: 22.99851665274097\n",
            "Cost after iteration 3600: 22.770436182202626\n",
            "Cost after iteration 3700: 20.71865627220732\n",
            "Cost after iteration 3800: 21.027231413099692\n",
            "Cost after iteration 3900: 137.85966535093047\n",
            "Cost after iteration 4000: 19.199881840261238\n",
            "Cost after iteration 4100: 19.42528943227787\n",
            "Cost after iteration 4200: 17.656881766113965\n",
            "Cost after iteration 4300: 17.984811589840827\n",
            "Cost after iteration 4400: 16.43630966327934\n",
            "Cost after iteration 4500: 16.68609226799382\n",
            "Cost after iteration 4600: 15.516616387737377\n",
            "Cost after iteration 4700: 15.619894771019448\n",
            "Cost after iteration 4800: 67.54092446069073\n",
            "Cost after iteration 4900: 14.572607030756306\n",
            "Cost after iteration 5000: 15.331636416507978\n",
            "Cost after iteration 5100: 13.671816078893235\n",
            "Cost after iteration 5200: 14.467502877941788\n",
            "Cost after iteration 5300: 13.100389032398638\n",
            "Cost after iteration 5400: 117.49886976151963\n",
            "Cost after iteration 5500: 12.557349771676874\n",
            "Cost after iteration 5600: 15.686941523858442\n",
            "Cost after iteration 5700: 12.006772921293035\n",
            "Cost after iteration 5800: 12.869696789232316\n",
            "Cost after iteration 5900: 11.477540008293674\n",
            "Cost after iteration 6000: 11.354887890244674\n",
            "Cost after iteration 6100: 11.012641104453097\n",
            "Cost after iteration 6200: 10.524040526501205\n",
            "Cost after iteration 6300: 10.595314668988816\n",
            "Cost after iteration 6400: 10.104188633200266\n",
            "Cost after iteration 6500: 10.193035239547212\n",
            "Cost after iteration 6600: 9.755861972494397\n",
            "Cost after iteration 6700: 9.791745965208488\n",
            "Cost after iteration 6800: 9.531005589790054\n",
            "Cost after iteration 6900: 9.403514080747524\n",
            "Cost after iteration 7000: 10.298497671161622\n",
            "Cost after iteration 7100: 9.041278011048766\n",
            "Cost after iteration 7200: 23.34821274803607\n",
            "Cost after iteration 7300: 8.707914417147805\n",
            "Cost after iteration 7400: 16.852148456190704\n",
            "Cost after iteration 7500: 8.512266508334715\n",
            "Cost after iteration 7600: 8.782154746349223\n",
            "Cost after iteration 7700: 11.66827062510295\n",
            "Cost after iteration 7800: 8.221357642185628\n",
            "Cost after iteration 7900: 14.424091101704004\n",
            "Cost after iteration 8000: 8.715926807050693\n",
            "Cost after iteration 8100: 8.447331878417266\n",
            "Cost after iteration 8200: 14.032114690725455\n",
            "Cost after iteration 8300: 8.1538277576029\n",
            "Cost after iteration 8400: 9.996787836453764\n",
            "Cost after iteration 8500: 9.55700396749076\n",
            "Cost after iteration 8600: 8.201839337586058\n",
            "Cost after iteration 8700: 11.106451095327147\n",
            "Cost after iteration 8800: 8.208097578426004\n",
            "Cost after iteration 8900: 9.211709254765724\n",
            "Cost after iteration 9000: 8.825170447189134\n",
            "Cost after iteration 9100: 8.256725847393154\n",
            "Cost after iteration 9200: 9.075713693848654\n",
            "Cost after iteration 9300: 7.945457721692218\n",
            "Cost after iteration 9400: 8.789000353796359\n",
            "Cost after iteration 9500: 7.827397902124085\n",
            "Cost after iteration 9600: 8.29810121170256\n",
            "Cost after iteration 9700: 7.729522946631294\n",
            "Cost after iteration 9800: 7.941631541668381\n",
            "Cost after iteration 9900: 7.581689769797928\n",
            "Cost after iteration 10000: 7.650264280565378\n",
            "Cost after iteration 10100: 7.397625157121219\n",
            "Cost after iteration 10200: 7.438813247502618\n",
            "Cost after iteration 10300: 7.199356920463875\n",
            "Cost after iteration 10400: 7.212698573075368\n",
            "Cost after iteration 10500: 7.0158247987647355\n",
            "Cost after iteration 10600: 7.003922795650571\n",
            "Cost after iteration 10700: 6.842427403942683\n",
            "Cost after iteration 10800: 6.836697329828259\n",
            "Cost after iteration 10900: 6.673603803890726\n",
            "Cost after iteration 11000: 6.635409567110761\n",
            "Cost after iteration 11100: 6.531211017587472\n",
            "Cost after iteration 11200: 6.495160674244266\n",
            "Cost after iteration 11300: 6.403568205198041\n",
            "Cost after iteration 11400: 6.314152239843109\n",
            "Cost after iteration 11500: 6.252580572211136\n",
            "Cost after iteration 11600: 6.164424308531774\n",
            "Cost after iteration 11700: 6.102244798409035\n",
            "Cost after iteration 11800: 6.056920644529343\n",
            "Cost after iteration 11900: 5.983673067468916\n",
            "Cost after iteration 12000: 5.895196597804544\n",
            "Cost after iteration 12100: 5.860308356100793\n",
            "Cost after iteration 12200: 5.769877099241673\n",
            "Cost after iteration 12300: 5.72169508437264\n",
            "Cost after iteration 12400: 5.659450468707122\n",
            "Cost after iteration 12500: 5.592098410522966\n",
            "Cost after iteration 12600: 5.567958944404432\n",
            "Cost after iteration 12700: 5.479000413131344\n",
            "Cost after iteration 12800: 5.4373379264397155\n",
            "Cost after iteration 12900: 5.389491416498532\n",
            "Cost after iteration 13000: 5.320932850132557\n",
            "Cost after iteration 13100: 5.292349544362435\n",
            "Cost after iteration 13200: 5.271566298288603\n",
            "Cost after iteration 13300: 5.170649284666755\n",
            "Cost after iteration 13400: 5.157443513369045\n",
            "Cost after iteration 13500: 5.106746244040176\n",
            "Cost after iteration 13600: 5.042068803949693\n",
            "Cost after iteration 13700: 5.017985108750432\n",
            "Cost after iteration 13800: 4.964585967345511\n",
            "Cost after iteration 13900: 4.9173044173729235\n",
            "Cost after iteration 14000: 4.8858830173097685\n",
            "Cost after iteration 14100: 4.84378884163593\n",
            "Cost after iteration 14200: 4.819091174567971\n",
            "Cost after iteration 14300: 4.762959972143793\n",
            "Cost after iteration 14400: 4.727226594342248\n",
            "Cost after iteration 14500: 4.717853077837041\n",
            "Cost after iteration 14600: 4.665587383876403\n",
            "Cost after iteration 14700: 4.617406021324805\n",
            "Cost after iteration 14800: 4.601803222726492\n",
            "Cost after iteration 14900: 4.558841657120757\n",
            "Cost after iteration 15000: 4.519009753274891\n",
            "Cost after iteration 15100: 4.496169300460462\n",
            "Cost after iteration 15200: 4.470927782312125\n",
            "Cost after iteration 15300: 4.446170221965882\n",
            "Cost after iteration 15400: 4.397737392943547\n",
            "Cost after iteration 15500: 4.394608393943124\n",
            "Cost after iteration 15600: 4.364698909919734\n",
            "Cost after iteration 15700: 4.3115860186759445\n",
            "Cost after iteration 15800: 4.298335573325181\n",
            "Cost after iteration 15900: 4.283249230746824\n",
            "Cost after iteration 16000: 4.254145861835862\n",
            "Cost after iteration 16100: 4.213718367878907\n",
            "Cost after iteration 16200: 4.196621641194728\n",
            "Cost after iteration 16300: 4.172410912750069\n",
            "Cost after iteration 16400: 4.140386810187561\n",
            "Cost after iteration 16500: 4.117790804328924\n",
            "Cost after iteration 16600: 4.095334229556811\n",
            "Cost after iteration 16700: 4.069643187727342\n",
            "Cost after iteration 16800: 4.045712059058534\n",
            "Cost after iteration 16900: 4.048959256084002\n",
            "Cost after iteration 17000: 4.00874171138742\n",
            "Cost after iteration 17100: 3.981334913958486\n",
            "Cost after iteration 17200: 3.973661076962596\n",
            "Cost after iteration 17300: 3.946239077221521\n",
            "Cost after iteration 17400: 3.9203250464177275\n",
            "Cost after iteration 17500: 3.9070841612378797\n",
            "Cost after iteration 17600: 3.8865935602025834\n",
            "Cost after iteration 17700: 3.8631940640010676\n",
            "Cost after iteration 17800: 3.8470040298691663\n",
            "Cost after iteration 17900: 3.8295940953041825\n",
            "Cost after iteration 18000: 3.820696737484147\n",
            "Cost after iteration 18100: 3.814564781487399\n",
            "Cost after iteration 18200: 3.7784955255160426\n",
            "Cost after iteration 18300: 3.762577705211693\n",
            "Cost after iteration 18400: 3.7806318801562697\n",
            "Cost after iteration 18500: 3.747013002373661\n",
            "Cost after iteration 18600: 3.7144428757021726\n",
            "Cost after iteration 18700: 3.7296388029791863\n",
            "Cost after iteration 18800: 3.726762518867819\n",
            "Cost after iteration 18900: 3.6781806884925956\n",
            "Cost after iteration 19000: 3.671314971592656\n",
            "Cost after iteration 19100: 3.672330249509028\n",
            "Cost after iteration 19200: 3.6444639592882355\n",
            "Cost after iteration 19300: 3.6268409955403738\n",
            "Cost after iteration 19400: 3.623654557611981\n",
            "Cost after iteration 19500: 3.6059174856518315\n",
            "Cost after iteration 19600: 3.587821442176045\n",
            "Cost after iteration 19700: 3.5799528295800527\n",
            "Cost after iteration 19800: 3.5690153832440767\n",
            "Cost after iteration 19900: 3.552079911475913\n",
            "Cost after iteration 20000: 3.541224991561779\n",
            "Cost after iteration 20100: 3.5323065881823026\n",
            "Cost after iteration 20200: 3.5199825324409195\n",
            "Cost after iteration 20300: 3.5071845197945497\n",
            "Cost after iteration 20400: 3.4980350029257337\n",
            "Cost after iteration 20500: 3.4883968623161903\n",
            "Cost after iteration 20600: 3.477310769750178\n",
            "Cost after iteration 20700: 3.4919050097326454\n",
            "Cost after iteration 20800: 3.4790657601266464\n",
            "Cost after iteration 20900: 3.4717908597203206\n",
            "Cost after iteration 21000: 3.4765591613299325\n",
            "Cost after iteration 21100: 3.4526823942523395\n",
            "Cost after iteration 21200: 3.4406870866798593\n",
            "Cost after iteration 21300: 3.4416096106067817\n",
            "Cost after iteration 21400: 3.430572462428423\n",
            "Cost after iteration 21500: 3.417259188533838\n",
            "Cost after iteration 21600: 3.4127267214776698\n",
            "Cost after iteration 21700: 3.4066242201477634\n",
            "Cost after iteration 21800: 3.3964036218747666\n",
            "Cost after iteration 21900: 3.3893358530529207\n",
            "Cost after iteration 22000: 3.4356892980190463\n",
            "Cost after iteration 22100: 3.419373250324729\n",
            "Cost after iteration 22200: 3.3745010868075527\n",
            "Cost after iteration 22300: 3.386988481246539\n",
            "Cost after iteration 22400: 3.3952672696730755\n",
            "Cost after iteration 22500: 3.3702777313024472\n",
            "Cost after iteration 22600: 3.362624653134386\n",
            "Cost after iteration 22700: 3.3679613765774636\n",
            "Cost after iteration 22800: 3.3586175442388377\n",
            "Cost after iteration 22900: 3.348067159380463\n"
          ],
          "name": "stdout"
        },
        {
          "output_type": "display_data",
          "data": {
            "image/png": "[encoded data removed]",
            "text/plain": [
              "<Figure size 360x288 with 1 Axes>"
            ]
          },
          "metadata": {
            "tags": [],
            "needs_background": "light"
          }
        }
      ]
    },
    {
      "cell_type": "markdown",
      "metadata": {
        "id": "4M-E4RFe6CTU"
      },
      "source": [
        "Good thing you built a vectorized implementation! Otherwise it might have taken 10 times longer to train this.\n",
        "\n",
        "Now, you can use the trained parameters to classify images from the dataset. To see your predictions on the training and test sets, run the cell below."
      ]
    },
    {
      "cell_type": "code",
      "metadata": {
        "id": "tdM7bLsq0YUD"
      },
      "source": [
        "np.savetxt('/content/drive/My Drive/pendulo_nn/W1.txt', parameters[\"W1\"], fmt='%f')"
      ],
      "execution_count": null,
      "outputs": []
    },
    {
      "cell_type": "code",
      "metadata": {
        "id": "MY-Kqf2xFWVl",
        "outputId": "56dad4af-df32-4fbe-ec6a-94017844e956",
        "colab": {
          "base_uri": "https://localhost:8080/",
          "height": 34
        }
      },
      "source": [
        "print(parameters[\"W2\"].shape)"
      ],
      "execution_count": null,
      "outputs": [
        {
          "output_type": "stream",
          "text": [
            "(1, 1)\n"
          ],
          "name": "stdout"
        }
      ]
    },
    {
      "cell_type": "code",
      "metadata": {
        "id": "xEoaBY1o-BL_"
      },
      "source": [
        "np.savetxt('/content/drive/My Drive/pendulo_nn/b1.txt', parameters[\"b1\"] , fmt='%f')"
      ],
      "execution_count": null,
      "outputs": []
    },
    {
      "cell_type": "code",
      "metadata": {
        "id": "5hSYQjnE-EUl"
      },
      "source": [
        "np.savetxt('/content/drive/My Drive/pendulo_nn/W2.txt', parameters[\"W2\"] , fmt='%f')"
      ],
      "execution_count": null,
      "outputs": []
    },
    {
      "cell_type": "code",
      "metadata": {
        "id": "3-mVanTy-E9u"
      },
      "source": [
        "np.savetxt('/content/drive/My Drive/pendulo_nn/b2.txt', parameters[\"b2\"] , fmt='%f')"
      ],
      "execution_count": null,
      "outputs": []
    },
    {
      "cell_type": "code",
      "metadata": {
        "id": "bSKibRCQ6CTV",
        "outputId": "82504a26-7dd0-4b66-e46f-ea2ec8592c41",
        "colab": {
          "base_uri": "https://localhost:8080/",
          "height": 34
        }
      },
      "source": [
        "predictions_train = predict(training_data, training_torques, parameters)"
      ],
      "execution_count": null,
      "outputs": [
        {
          "output_type": "stream",
          "text": [
            "Accuracy: 0.0\n"
          ],
          "name": "stdout"
        }
      ]
    }
  ]
}